{
 "cells": [
  {
   "cell_type": "code",
   "execution_count": 111,
   "metadata": {
    "collapsed": false
   },
   "outputs": [],
   "source": [
    "import rawpy\n",
    "import imageio\n",
    "import scipy.misc\n",
    "import os\n",
    "os.sep\n",
    "import numpy as np\n",
    "import matplotlib\n",
    "import pylab as plt\n",
    "%matplotlib inline"
   ]
  },
  {
   "cell_type": "code",
   "execution_count": 112,
   "metadata": {
    "collapsed": false
   },
   "outputs": [
    {
     "name": "stdout",
     "output_type": "stream",
     "text": [
      "Enter file name: File067\n",
      "<_rawpy.RawPy object at 0x0000000017524AA8>\n"
     ]
    }
   ],
   "source": [
    "fn = raw_input('Enter file name: ')\n",
    "url_open='D:/CW Spectral Eval - Feb 2nd/Canon_Photos/'+fn+'.cr2'\n",
    "raw = rawpy.imread(url_open)\n",
    "print raw\n",
    "rgb = raw.postprocess()\n",
    "url_save='D:/CW Spectral Eval - Feb 2nd/Canon_Photos/'+fn+'.tiff'\n",
    "imageio.imsave(url_save, rgb)"
   ]
  },
  {
   "cell_type": "code",
   "execution_count": 113,
   "metadata": {
    "collapsed": true
   },
   "outputs": [],
   "source": [
    "bayer = raw.raw_image"
   ]
  },
  {
   "cell_type": "code",
   "execution_count": 114,
   "metadata": {
    "collapsed": false
   },
   "outputs": [
    {
     "data": {
      "text/plain": [
       "5344"
      ]
     },
     "execution_count": 114,
     "metadata": {},
     "output_type": "execute_result"
    }
   ],
   "source": [
    "len(bayer[0])"
   ]
  },
  {
   "cell_type": "code",
   "execution_count": 115,
   "metadata": {
    "collapsed": false
   },
   "outputs": [
    {
     "data": {
      "text/plain": [
       "(3584L, 5344L)"
      ]
     },
     "execution_count": 115,
     "metadata": {},
     "output_type": "execute_result"
    }
   ],
   "source": [
    "bayer.shape"
   ]
  },
  {
   "cell_type": "code",
   "execution_count": 116,
   "metadata": {
    "collapsed": false
   },
   "outputs": [
    {
     "data": {
      "text/plain": [
       "(5218L, 3482L, 3L)"
      ]
     },
     "execution_count": 116,
     "metadata": {},
     "output_type": "execute_result"
    }
   ],
   "source": [
    "rgb=rgb/255\n",
    "rgb.shape\n"
   ]
  },
  {
   "cell_type": "code",
   "execution_count": 117,
   "metadata": {
    "collapsed": false
   },
   "outputs": [],
   "source": [
    "img_red = rgb[:,:,0]\n",
    "img_blue = rgb[:,:,2]\n",
    "img_green = rgb[:, :, 1]\n"
   ]
  },
  {
   "cell_type": "code",
   "execution_count": 118,
   "metadata": {
    "collapsed": false
   },
   "outputs": [
    {
     "data": {
      "image/png": "[encoded data removed]",
      "text/plain": [
       "<matplotlib.figure.Figure at 0x1df50fd0>"
      ]
     },
     "metadata": {},
     "output_type": "display_data"
    }
   ],
   "source": [
    "try:\n",
    "    red = np.zeros(shape=(3482, 5218, 3))\n",
    "    red[:,:,0] = img_red\n",
    "except:\n",
    "    red = np.zeros(shape=(5218, 3482, 3))\n",
    "    red[:,:,0] = img_red   \n",
    "\n",
    "imgplot_red = plt.imshow(red)\n",
    "plt.axis('off')\n",
    "\n",
    "url_save='D:/CW Spectral Eval - Feb 2nd/Canon_Photos/red_'+fn+'.tiff'\n",
    "scipy.misc.imsave(url_save, red)"
   ]
  },
  {
   "cell_type": "code",
   "execution_count": 119,
   "metadata": {
    "collapsed": false
   },
   "outputs": [
    {
     "data": {
      "image/png": "[encoded data removed]",
      "text/plain": [
       "<matplotlib.figure.Figure at 0x17697a90>"
      ]
     },
     "metadata": {},
     "output_type": "display_data"
    }
   ],
   "source": [
    "try:\n",
    "    green = np.zeros(shape=(3482, 5218, 3))\n",
    "    green[:,:,1] = img_green\n",
    "except:\n",
    "    green = np.zeros(shape=(5218, 3482, 3))\n",
    "    green[:,:,1] = img_green    \n",
    "\n",
    "imgplot_green = plt.imshow(green)\n",
    "plt.axis('off')\n",
    "\n",
    "url_save='D:/CW Spectral Eval - Feb 2nd/Canon_Photos/green_'+fn+'.tiff'\n",
    "scipy.misc.imsave(url_save, green)"
   ]
  },
  {
   "cell_type": "code",
   "execution_count": 120,
   "metadata": {
    "collapsed": false
   },
   "outputs": [
    {
     "data": {
      "image/png": "[encoded data removed]",
      "text/plain": [
       "<matplotlib.figure.Figure at 0x176974e0>"
      ]
     },
     "metadata": {},
     "output_type": "display_data"
    }
   ],
   "source": [
    "try:\n",
    "    blue = np.zeros(shape=(3482, 5218, 3))\n",
    "    blue[:,:,2] = img_blue\n",
    "except:\n",
    "    blue = np.zeros(shape=(5218, 3482, 3))\n",
    "    blue[:,:,2] = img_blue    \n",
    "\n",
    "imgplot_blue = plt.imshow(blue)\n",
    "plt.axis('off')\n",
    "\n",
    "url_save='D:/CW Spectral Eval - Feb 2nd/Canon_Photos/blue_'+fn+'.tiff'\n",
    "scipy.misc.imsave(url_save, blue)"
   ]
  },
  {
   "cell_type": "code",
   "execution_count": null,
   "metadata": {
    "collapsed": true
   },
   "outputs": [],
   "source": []
  }
 ],
 "metadata": {
  "kernelspec": {
   "display_name": "Python 2",
   "language": "python",
   "name": "python2"
  },
  "language_info": {
   "codemirror_mode": {
    "name": "ipython",
    "version": 2
   },
   "file_extension": ".py",
   "mimetype": "text/x-python",
   "name": "python",
   "nbconvert_exporter": "python",
   "pygments_lexer": "ipython2",
   "version": "2.7.11"
  }
 },
 "nbformat": 4,
 "nbformat_minor": 0
}
