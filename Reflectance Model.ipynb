{
 "cells": [
  {
   "cell_type": "markdown",
   "metadata": {},
   "source": [
    "This program calculates scatter properties using (1) micro-faceted approach, (2) assumes a guassian distribution.  It has some limitations that need to worked out.  Namely - the gaussian distribution does not include lambertian distribution possibilities.  Also - at wide viewing angles, and rough structures - the scatter plot goes below the surface (which by definition is not reflection, but rather transmission).  Not sure if I am handling this correctly."
   ]
  },
  {
   "cell_type": "code",
   "execution_count": 11,
   "metadata": {
    "collapsed": false
   },
   "outputs": [],
   "source": [
    "import matplotlib.pyplot as plt\n",
    "import numpy as np\n",
    "import math\n",
    "%matplotlib inline\n",
    "from scipy.stats.kde import gaussian_kde\n",
    "from scipy.stats import norm"
   ]
  },
  {
   "cell_type": "markdown",
   "metadata": {},
   "source": [
    "Establish Incident Light - Input Incident Angle"
   ]
  },
  {
   "cell_type": "code",
   "execution_count": 12,
   "metadata": {
    "collapsed": false
   },
   "outputs": [
    {
     "name": "stdout",
     "output_type": "stream",
     "text": [
      "Input Incident Angle: 15\n"
     ]
    }
   ],
   "source": [
    "i_y = np.arange(0,10)\n",
    "i_x = np.array([0.0]*len(i_y))\n",
    "i_angle = -float(raw_input('Input Incident Angle: '))\n",
    "\n",
    "i_x_1 = i_x_1 = i_x*math.cos(math.radians(i_angle)) + i_y*math.sin(math.radians(i_angle))\n",
    "i_y_1 = i_y*math.cos(math.radians(i_angle))"
   ]
  },
  {
   "cell_type": "markdown",
   "metadata": {},
   "source": [
    "Establish Micro-Faceted Slopes - Input Roughness Parameter"
   ]
  },
  {
   "cell_type": "code",
   "execution_count": 13,
   "metadata": {
    "collapsed": false
   },
   "outputs": [
    {
     "name": "stdout",
     "output_type": "stream",
     "text": [
      "Input roughness factor (1-30): 30\n"
     ]
    }
   ],
   "source": [
    "scatter_angle = np.arange(-90, 91, 1)\n",
    "\n",
    "n_data = len(scatter_angle)\n",
    "n_rnd = 1000\n",
    "\n",
    "scale = float(raw_input('Input roughness factor (1-30): '))\n",
    "\n",
    "m = np.random.normal(loc=0, scale=scale, size=n_rnd) \n",
    "y = np.zeros((n_data, n_rnd))  \n",
    "\n",
    "for light_reflected in xrange(n_rnd):\n",
    "    y[:,light_reflected] = m[light_reflected] * scatter_angle\n",
    "\n",
    "kde = gaussian_kde(m)\n",
    "yd = kde(scatter_angle)/np.amax(kde(scatter_angle))"
   ]
  },
  {
   "cell_type": "markdown",
   "metadata": {},
   "source": [
    "Establish scatter light visualization data"
   ]
  },
  {
   "cell_type": "code",
   "execution_count": 14,
   "metadata": {
    "collapsed": false
   },
   "outputs": [],
   "source": [
    "scatter_angle = [math.radians(x) for x in scatter_angle]\n",
    "Isy = [x*math.cos(y) for x, y in zip(yd, scatter_angle)]\n",
    "Isx = [x*math.sin(y) for x, y in zip(yd, scatter_angle)]\n",
    "\n",
    "zero_x =[0]*len(scatter_angle)\n",
    "zero_y =[0]*len(scatter_angle)\n",
    "\n",
    "ref_y = [0, 1.5]\n",
    "ref_x = [0]*len(ref_y)"
   ]
  },
  {
   "cell_type": "code",
   "execution_count": 15,
   "metadata": {
    "collapsed": false
   },
   "outputs": [
    {
     "data": {
      "text/plain": [
       "<function matplotlib.pyplot.show>"
      ]
     },
     "execution_count": 15,
     "metadata": {},
     "output_type": "execute_result"
    },
    {
     "data": {
      "image/png": "[encoded data removed]",
      "text/plain": [
       "<matplotlib.figure.Figure at 0x1a848d68>"
      ]
     },
     "metadata": {},
     "output_type": "display_data"
    }
   ],
   "source": [
    "# rotation matrix; x' = xcos(i_angle) + ysin(i_angle); y' = ycos(90-i_angle) - xsin(90-i_angle) for x, y \n",
    "Isx = [x*math.cos(math.radians(-i_angle)) + y*math.sin(math.radians(-i_angle)) for x, y in zip(Isx, Isy)]\n",
    "Isy = [y*math.cos(math.radians(-i_angle)) - x*math.sin(math.radians(-i_angle)) for x, y in zip(Isx, Isy)]\n",
    "\n",
    "for i in range(len(scatter_angle)):\n",
    "    plt.plot([zero_x[i], Isx[i]], [zero_y[i], Isy[i]], 'cyan', alpha = 0.7) \n",
    "plt.xlim(-1,1)\n",
    "plt.axis()\n",
    "plt.gca().set_aspect('equal', adjustable='box')\n",
    "plt.annotate('', (0, 0), xycoords=('data'), xytext=(i_x_1[-1]*.25, i_y_1[-1]*.25), arrowprops=dict(arrowstyle='->'))\n",
    "plt.text(1, 1, r'$\\theta\\i\\ =$' +str(i_angle), fontsize=16)\n",
    "font = {'family':'serif', 'color':'darkred', 'size': 14}\n",
    "plt.text((i_x_1[-1]*.25)-1, (i_y_1[-1]*.25)-0.4,'Incident Light', fontdict = font)\n",
    "plt.text(Isx[100]+.15, Isy[100],'Scattered Light', fontdict = font)\n",
    "plt.ylim(0,2.1)\n",
    "plt.axis('off')\n",
    "plt.plot(ref_x, ref_y, '--')\n",
    "plt.show "
   ]
  },
  {
   "cell_type": "code",
   "execution_count": 6,
   "metadata": {
    "collapsed": false
   },
   "outputs": [
    {
     "data": {
      "text/plain": [
       "matrix([[ -9.54312160e-01,  -9.58761829e-01,  -9.62919925e-01,\n",
       "          -9.66785092e-01,  -9.70356062e-01,  -9.73631657e-01,\n",
       "          -9.76610793e-01,  -9.79292474e-01,  -9.81675797e-01,\n",
       "          -9.83759949e-01,  -9.85544211e-01,  -9.87027955e-01,\n",
       "          -9.88210647e-01,  -9.89091843e-01,  -9.89671195e-01,\n",
       "          -9.89948446e-01,  -9.89923432e-01,  -9.89596083e-01,\n",
       "          -9.88966422e-01,  -9.88034565e-01,  -9.86800722e-01,\n",
       "          -9.85265194e-01,  -9.83428379e-01,  -9.81290764e-01,\n",
       "          -9.78852932e-01,  -9.76115556e-01,  -9.73079403e-01,\n",
       "          -9.69745333e-01,  -9.66114298e-01,  -9.62187340e-01,\n",
       "          -9.57965594e-01,  -9.53450287e-01,  -9.48642735e-01,\n",
       "          -9.43544345e-01,  -9.38156615e-01,  -9.32481132e-01,\n",
       "          -9.26519572e-01,  -9.20273700e-01,  -9.13745369e-01,\n",
       "          -9.06936520e-01,  -8.99849180e-01,  -8.92485463e-01,\n",
       "          -8.84847568e-01,  -8.76937782e-01,  -8.68758472e-01,\n",
       "          -8.60312092e-01,  -8.51601178e-01,  -8.42628347e-01,\n",
       "          -8.33396300e-01,  -8.23907817e-01,  -8.14165757e-01,\n",
       "          -8.04173059e-01,  -7.93932739e-01,  -7.83447892e-01,\n",
       "          -7.72721688e-01,  -7.61757371e-01,  -7.50558260e-01,\n",
       "          -7.39127749e-01,  -7.27469301e-01,  -7.15586452e-01,\n",
       "          -7.03482807e-01,  -6.91162041e-01,  -6.78627897e-01,\n",
       "          -6.65884182e-01,  -6.52934771e-01,  -6.39783603e-01,\n",
       "          -6.26434678e-01,  -6.12892061e-01,  -5.99159874e-01,\n",
       "          -5.85242302e-01,  -5.71143585e-01,  -5.56868022e-01,\n",
       "          -5.42419965e-01,  -5.27803821e-01,  -5.13024051e-01,\n",
       "          -4.98085166e-01,  -4.82991727e-01,  -4.67748344e-01,\n",
       "          -4.52359674e-01,  -4.36830419e-01,  -4.21165326e-01,\n",
       "          -4.05369184e-01,  -3.89446824e-01,  -3.73403117e-01,\n",
       "          -3.57242970e-01,  -3.40971331e-01,  -3.24593178e-01,\n",
       "          -3.08113527e-01,  -2.91537424e-01,  -2.74869947e-01,\n",
       "          -2.58116201e-01,  -2.41281319e-01,  -2.24370461e-01,\n",
       "          -2.07388811e-01,  -1.90341575e-01,  -1.73233979e-01,\n",
       "          -1.56071271e-01,  -1.38858714e-01,  -1.21601589e-01,\n",
       "          -1.04305192e-01,  -8.69748290e-02,  -6.96158199e-02,\n",
       "          -5.22334931e-02,  -3.48331849e-02,  -1.74202382e-02,\n",
       "           2.77555756e-17,   1.74221794e-02,   3.48409485e-02,\n",
       "           5.22509563e-02,   6.96468538e-02,   8.70232958e-02,\n",
       "           1.04374942e-01,   1.21696461e-01,   1.38982527e-01,\n",
       "           1.56227827e-01,   1.73427059e-01,   1.90574935e-01,\n",
       "           2.07666182e-01,   2.24695545e-01,   2.41657785e-01,\n",
       "           2.58547687e-01,   2.75360055e-01,   2.92089716e-01,\n",
       "           3.08731525e-01,   3.25280361e-01,   3.41731132e-01,\n",
       "           3.58078777e-01,   3.74318265e-01,   3.90444597e-01,\n",
       "           4.06452813e-01,   4.22337983e-01,   4.38095219e-01,\n",
       "           4.53719671e-01,   4.69206529e-01,   4.84551026e-01,\n",
       "           4.99748438e-01,   5.14794086e-01,   5.29683338e-01,\n",
       "           5.44411611e-01,   5.58974370e-01,   5.73367130e-01,\n",
       "           5.87585460e-01,   6.01624983e-01,   6.15481375e-01,\n",
       "           6.29150370e-01,   6.42627760e-01,   6.55909393e-01,\n",
       "           6.68991181e-01,   6.81869095e-01,   6.94539171e-01,\n",
       "           7.06997507e-01,   7.19240267e-01,   7.31263682e-01,\n",
       "           7.43064049e-01,   7.54637737e-01,   7.65981181e-01,\n",
       "           7.77090890e-01,   7.87963444e-01,   7.98595495e-01,\n",
       "           8.08983773e-01,   8.19125078e-01,   8.29016291e-01,\n",
       "           8.38654367e-01,   8.48036341e-01,   8.57159327e-01,\n",
       "           8.66020517e-01,   8.74617187e-01,   8.82946692e-01,\n",
       "           8.91006471e-01,   8.98794046e-01,   9.06307024e-01,\n",
       "           9.13543095e-01,   9.20500035e-01,   9.27175709e-01,\n",
       "           9.33568065e-01,   9.39675141e-01,   9.45495062e-01,\n",
       "           9.51026044e-01,   9.56266389e-01,   9.61214491e-01,\n",
       "           9.65868835e-01],\n",
       "        [ -2.55707173e-01,  -2.39046172e-01,  -2.22307581e-01,\n",
       "          -2.05496515e-01,  -1.88618111e-01,  -1.71677530e-01,\n",
       "          -1.54679954e-01,  -1.37630582e-01,  -1.20534632e-01,\n",
       "          -1.03397337e-01,  -8.62239459e-02,  -6.90197182e-02,\n",
       "          -5.17899255e-02,  -3.45398483e-02,  -1.72747750e-02,\n",
       "           2.77555756e-17,   1.72791778e-02,   3.45574567e-02,\n",
       "           5.18295340e-02,   6.90901072e-02,   8.63338763e-02,\n",
       "           1.03555545e-01,   1.20749822e-01,   1.37911423e-01,\n",
       "           1.55035074e-01,   1.72115509e-01,   1.89147475e-01,\n",
       "           2.06125734e-01,   2.23045060e-01,   2.39900248e-01,\n",
       "           2.56686107e-01,   2.73397470e-01,   2.90029190e-01,\n",
       "           3.06576142e-01,   3.23033228e-01,   3.39395376e-01,\n",
       "           3.55657541e-01,   3.71814710e-01,   3.87861898e-01,\n",
       "           4.03794155e-01,   4.19606564e-01,   4.35294245e-01,\n",
       "           4.50852355e-01,   4.66276090e-01,   4.81560685e-01,\n",
       "           4.96701418e-01,   5.11693611e-01,   5.26532629e-01,\n",
       "           5.41213886e-01,   5.55732840e-01,   5.70085000e-01,\n",
       "           5.84265927e-01,   5.98271231e-01,   6.12096577e-01,\n",
       "           6.25737685e-01,   6.39190329e-01,   6.52450342e-01,\n",
       "           6.65513614e-01,   6.78376098e-01,   6.91033804e-01,\n",
       "           7.03482807e-01,   7.15719246e-01,   7.27739322e-01,\n",
       "           7.39539306e-01,   7.51115533e-01,   7.62464407e-01,\n",
       "           7.73582403e-01,   7.84466065e-01,   7.95112009e-01,\n",
       "           8.05516924e-01,   8.15677573e-01,   8.25590794e-01,\n",
       "           8.35253499e-01,   8.44662679e-01,   8.53815402e-01,\n",
       "           8.62708814e-01,   8.71340142e-01,   8.79706691e-01,\n",
       "           8.87805849e-01,   8.95635087e-01,   9.03191957e-01,\n",
       "           9.10474095e-01,   9.17479222e-01,   9.24205145e-01,\n",
       "           9.30649756e-01,   9.36811032e-01,   9.42687039e-01,\n",
       "           9.48275930e-01,   9.53575948e-01,   9.58585423e-01,\n",
       "           9.63302775e-01,   9.67726514e-01,   9.71855240e-01,\n",
       "           9.75687645e-01,   9.79222513e-01,   9.82458716e-01,\n",
       "           9.85395222e-01,   9.88031090e-01,   9.90365471e-01,\n",
       "           9.92397610e-01,   9.94126845e-01,   9.95552607e-01,\n",
       "           9.96674421e-01,   9.97491906e-01,   9.98004775e-01,\n",
       "           9.98212835e-01,   9.98115987e-01,   9.97714225e-01,\n",
       "           9.97007639e-01,   9.95996412e-01,   9.94680823e-01,\n",
       "           9.93061242e-01,   9.91138136e-01,   9.88912064e-01,\n",
       "           9.86383678e-01,   9.83553726e-01,   9.80423046e-01,\n",
       "           9.76992573e-01,   9.73263331e-01,   9.69236438e-01,\n",
       "           9.64913105e-01,   9.60294632e-01,   9.55382413e-01,\n",
       "           9.50177932e-01,   9.44682763e-01,   9.38898570e-01,\n",
       "           9.32827106e-01,   9.26470216e-01,   9.19829829e-01,\n",
       "           9.12907964e-01,   9.05706727e-01,   8.98228311e-01,\n",
       "           8.90474993e-01,   8.82449137e-01,   8.74153191e-01,\n",
       "           8.65589685e-01,   8.56761235e-01,   8.47670536e-01,\n",
       "           8.38320366e-01,   8.28713583e-01,   8.18853123e-01,\n",
       "           8.08742004e-01,   7.98383318e-01,   7.87780236e-01,\n",
       "           7.76936003e-01,   7.65853941e-01,   7.54537444e-01,\n",
       "           7.42989978e-01,   7.31215082e-01,   7.19216366e-01,\n",
       "           7.06997507e-01,   6.94562252e-01,   6.81914415e-01,\n",
       "           6.69057875e-01,   6.55996577e-01,   6.42734527e-01,\n",
       "           6.29275795e-01,   6.15624513e-01,   6.01784870e-01,\n",
       "           5.87761115e-01,   5.73557554e-01,   5.59178549e-01,\n",
       "           5.44628514e-01,   5.29911919e-01,   5.15033284e-01,\n",
       "           4.99997179e-01,   4.84808223e-01,   4.69471084e-01,\n",
       "           4.53990473e-01,   4.38371147e-01,   4.22617906e-01,\n",
       "           4.06735591e-01,   3.90729083e-01,   3.74603302e-01,\n",
       "           3.58363204e-01,   3.42013781e-01,   3.25560058e-01,\n",
       "           3.09007093e-01,   2.92359975e-01,   2.75623820e-01,\n",
       "           2.58803774e-01]])"
      ]
     },
     "execution_count": 6,
     "metadata": {},
     "output_type": "execute_result"
    }
   ],
   "source": [
    "# Philip's Version...\n",
    "\n",
    "import numpy as np\n",
    "from scipy.stats.kde import gaussian_kde\n",
    "from scipy.stats     import norm\n",
    "\n",
    "                     # import math\n",
    "radians = np.radians # np.vectorize(math.radians)\n",
    "sin     = np.sin     # np.vectorize(math.sin)\n",
    "cos     = np.cos     # np.vectorize(math.cos)\n",
    "\n",
    "incident_angle = radians(15)\n",
    "roughness      = 30\n",
    "\n",
    "def create_vectors(scale, n_rnd=1000):\n",
    "    \"\"\"\n",
    "    returns 2d point matrix of ... needs to understand this\n",
    "    \"\"\"\n",
    "    # create scatter of -90* to 90* in radians\n",
    "    scatter_angle = radians(np.arange(-90, 91, 1))\n",
    "\n",
    "    scale = 30\n",
    "    n_rnd = 1000\n",
    "\n",
    "    m   = np.random.normal(loc=0, scale=scale, size=n_rnd) \n",
    "    kde = gaussian_kde(m)\n",
    "\n",
    "    yd  = kde(scatter_angle)/np.amax(kde(scatter_angle))\n",
    "\n",
    "    incident_scatter_vectors = yd * np.array(\n",
    "      [sin(scatter_angle), cos(scatter_angle)]\n",
    "    )\n",
    "\n",
    "    return np.matrix(incident_scatter_vectors)\n",
    "\n",
    "\n",
    "def rot_matrix(theta):\n",
    "    \"\"\"\n",
    "    returns 2d rotational matrix of angle theta (passed in radians)\n",
    "    \"\"\"\n",
    "    return np.matrix([[cos(theta), -sin(theta)], [sin(theta), cos(theta)]])\n",
    "\n",
    "\n",
    "isv = create_vectors(roughness)\n",
    "rot = rot_matrix(incident_angle)\n",
    "\n",
    "ref_y = np.array([0, 1.5])\n",
    "ref_x = np.zeros(ref_y.shape)\n",
    "\n",
    "rot*isv"
   ]
  },
  {
   "cell_type": "code",
   "execution_count": null,
   "metadata": {
    "collapsed": true
   },
   "outputs": [],
   "source": []
  }
 ],
 "metadata": {
  "kernelspec": {
   "display_name": "Python 2",
   "language": "python",
   "name": "python2"
  },
  "language_info": {
   "codemirror_mode": {
    "name": "ipython",
    "version": 2
   },
   "file_extension": ".py",
   "mimetype": "text/x-python",
   "name": "python",
   "nbconvert_exporter": "python",
   "pygments_lexer": "ipython2",
   "version": "2.7.10"
  }
 },
 "nbformat": 4,
 "nbformat_minor": 0
}
