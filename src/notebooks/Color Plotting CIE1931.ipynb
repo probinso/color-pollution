{
 "cells": [
  {
   "cell_type": "code",
   "execution_count": 133,
   "metadata": {
    "collapsed": false
   },
   "outputs": [],
   "source": [
    "import numpy as np\n",
    "import pandas as pd\n",
    "import matplotlib.pyplot as plt\n",
    "# import colour # install from colour-science.org\n",
    "# from colour.plotting import * # install the accessory modules per colour-science website instructions\n",
    "%matplotlib inline"
   ]
  },
  {
   "cell_type": "markdown",
   "metadata": {},
   "source": [
    "Source File Requirments: Spectra begins at 365 nm, ends at 830 nm, and has a spectral resolution of 5 nm.  Data wrangling may be required to generate a conforming file."
   ]
  },
  {
   "cell_type": "code",
   "execution_count": 134,
   "metadata": {
    "collapsed": true
   },
   "outputs": [],
   "source": [
    "Lamp = pd.DataFrame(np.array(pd.read_csv('D:/CW Spectral Eval - Feb 2nd/LE174-H00-N50-2A DOE.csv')))\n",
    "desr = 'Cool White LED'"
   ]
  },
  {
   "cell_type": "code",
   "execution_count": 135,
   "metadata": {
    "collapsed": false
   },
   "outputs": [],
   "source": [
    "# Lamp.head() begins at 365\n",
    "Lamp = Lamp[1][0:94]\n",
    "# Lamp.tail() ends at 830 nm\n",
    "# 5 nm increments\n",
    "# plt.plot(Lamp[0], Lamp[1]) - checks out OK"
   ]
  },
  {
   "cell_type": "code",
   "execution_count": 136,
   "metadata": {
    "collapsed": false
   },
   "outputs": [],
   "source": [
    "def color(filename): \n",
    "    xyz = pd.DataFrame(np.array(pd.read_csv('D:\\Python_Database\\XYZ_Color_Function.csv')))\n",
    "    X, Y, Z = np.sum(xyz[0:94][1]*filename), np.sum(xyz[0:94][2]*filename), np.sum(xyz[0:94][3]*filename) \n",
    "    x, y = X/(X+Y+Z), Y/(X+Y+Z)\n",
    "    return x, y"
   ]
  },
  {
   "cell_type": "code",
   "execution_count": 137,
   "metadata": {
    "collapsed": false
   },
   "outputs": [],
   "source": [
    "def CIE1931(x_coor, y_coor):\n",
    "    CIE_1931 = pd.DataFrame(np.array(pd.read_csv('D:\\Python_Database\\CIE1931_1nm.csv')))\n",
    "    plt.plot(CIE_1931[0], CIE_1931[1], linewidth = 0.5)\n",
    "    plt.plot(x_coor, y_coor, 'ro', markersize = 10)\n",
    "#    return CIE_1931_chromaticity_diagram_plot(standalone = False)\n",
    "    plt.grid()\n",
    "    plt.xlabel('x'), plt.ylabel('y')\n",
    "    plt.text(0.4, 0.8, desr)\n",
    "    plt.gca().set_aspect('equal', adjustable='box') \n",
    "    Blackbody = pd.DataFrame(np.array(pd.read_csv('D:/Python_Database/BlackBody_xy.csv')))\n",
    "    plt.title('1931 CIE Chart')\n",
    "    plt.plot(Blackbody[0], Blackbody[1], '--', color = 'black', linewidth = 0.5)\n",
    "    return plt.show()"
   ]
  },
  {
   "cell_type": "code",
   "execution_count": 138,
   "metadata": {
    "collapsed": false
   },
   "outputs": [
    {
     "data": {
      "image/png": "[encoded data removed]",
      "text/plain": [
       "<matplotlib.figure.Figure at 0xb1030f0>"
      ]
     },
     "metadata": {},
     "output_type": "display_data"
    }
   ],
   "source": [
    "CIE1931(color(Lamp)[0], color(Lamp)[1]) # runs two functions within a function"
   ]
  },
  {
   "cell_type": "code",
   "execution_count": null,
   "metadata": {
    "collapsed": true
   },
   "outputs": [],
   "source": []
  },
  {
   "cell_type": "code",
   "execution_count": null,
   "metadata": {
    "collapsed": true
   },
   "outputs": [],
   "source": []
  }
 ],
 "metadata": {
  "kernelspec": {
   "display_name": "Python 2",
   "language": "python",
   "name": "python2"
  },
  "language_info": {
   "codemirror_mode": {
    "name": "ipython",
    "version": 2
   },
   "file_extension": ".py",
   "mimetype": "text/x-python",
   "name": "python",
   "nbconvert_exporter": "python",
   "pygments_lexer": "ipython2",
   "version": "2.7.11"
  }
 },
 "nbformat": 4,
 "nbformat_minor": 0
}
